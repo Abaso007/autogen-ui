{
 "cells": [
  {
   "cell_type": "code",
   "execution_count": 1,
   "metadata": {},
   "outputs": [],
   "source": [
    "import logging\n",
    "from autogen_agentchat.logging import ConsoleLogHandler\n",
    "from autogen_agentchat import EVENT_LOGGER_NAME\n",
    "logger = logging.getLogger(EVENT_LOGGER_NAME)\n",
    "logger.handlers = [ConsoleLogHandler()]\n",
    "logger.setLevel(logging.INFO)\n"
   ]
  },
  {
   "cell_type": "code",
   "execution_count": 2,
   "metadata": {},
   "outputs": [],
   "source": [
    "from autogenui.provider import Provider\n",
    "import json \n",
    "\n",
    "team_json_spec = json.load(open(\"default_team.json\")) \n",
    "provider = Provider()  \n",
    "team = provider.load_team(team_json_spec) "
   ]
  },
  {
   "cell_type": "code",
   "execution_count": 3,
   "metadata": {},
   "outputs": [
    {
     "name": "stdout",
     "output_type": "stream",
     "text": [
      "\n",
      "--------------------------------------------------------------------------- \n",
      "\u001b[91m[2024-10-30T21:51:31.622205]:\u001b[0m\n",
      "\n",
      "What is the weather in New York?\n",
      "--------------------------------------------------------------------------- \n",
      "\u001b[91m[2024-10-30T21:51:33.445675], writing_agent:\u001b[0m\n",
      "\n",
      "The current weather in New York is 73 degrees and sunny.\n",
      "--------------------------------------------------------------------------- \n",
      "\u001b[91m[2024-10-30T21:51:33.838518], writing_agent:\u001b[0m\n",
      "\n",
      "TERMINATE\n",
      "--------------------------------------------------------------------------- \n",
      "\u001b[91m[2024-10-30T21:51:33.838879], Termination:\u001b[0m\n",
      "\n",
      "Stop message received"
     ]
    }
   ],
   "source": [
    "result = await team.run(task=\"What is the weather in New York?\")"
   ]
  },
  {
   "cell_type": "code",
   "execution_count": 4,
   "metadata": {},
   "outputs": [
    {
     "data": {
      "text/plain": [
       "[TextMessage(source='user', content='What is the weather in New York?'),\n",
       " ToolCallMessage(source='writing_agent', content=[FunctionCall(id='call_NH327R3wWnIEz4iipiYi0Fux', arguments='{\"city\":\"New York\"}', name='get_weather')]),\n",
       " ToolCallResultMessages(source='writing_agent', content=[FunctionExecutionResult(content='The weather in New York is 73 degrees and Sunny.', call_id='call_NH327R3wWnIEz4iipiYi0Fux')]),\n",
       " TextMessage(source='writing_agent', content='The current weather in New York is 73 degrees and sunny.'),\n",
       " StopMessage(source='writing_agent', content='TERMINATE')]"
      ]
     },
     "execution_count": 4,
     "metadata": {},
     "output_type": "execute_result"
    }
   ],
   "source": [
    "result.messages"
   ]
  }
 ],
 "metadata": {
  "kernelspec": {
   "display_name": "ags",
   "language": "python",
   "name": "python3"
  },
  "language_info": {
   "codemirror_mode": {
    "name": "ipython",
    "version": 3
   },
   "file_extension": ".py",
   "mimetype": "text/x-python",
   "name": "python",
   "nbconvert_exporter": "python",
   "pygments_lexer": "ipython3",
   "version": "3.10.14"
  }
 },
 "nbformat": 4,
 "nbformat_minor": 2
}
