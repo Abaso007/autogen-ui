{
 "cells": [
  {
   "cell_type": "code",
   "execution_count": null,
   "metadata": {},
   "outputs": [],
   "source": [
    " "
   ]
  },
  {
   "cell_type": "code",
   "execution_count": 1,
   "metadata": {},
   "outputs": [],
   "source": [
    "from autogenui.provider import Provider\n",
    "import json \n",
    "\n",
    "team_json_spec = json.load(open(\"default_team.json\")) \n",
    "provider = Provider()  \n",
    "team = provider.load_team(team_json_spec) "
   ]
  },
  {
   "cell_type": "code",
   "execution_count": 2,
   "metadata": {},
   "outputs": [],
   "source": [
    "result = await team.run(task=\"What is the weather in New York?\");"
   ]
  },
  {
   "cell_type": "code",
   "execution_count": 3,
   "metadata": {},
   "outputs": [
    {
     "data": {
      "text/plain": [
       "[TextMessage(source='user', models_usage=None, content='What is the weather in New York?'),\n",
       " ToolCallMessage(source='writing_agent', models_usage=RequestUsage(prompt_tokens=86, completion_tokens=15), content=[FunctionCall(id='call_1P3Dyudqa3qSwxvUqAsmswbH', arguments='{\"city\":\"New York\"}', name='get_weather')]),\n",
       " ToolCallResultMessage(source='writing_agent', models_usage=None, content=[FunctionExecutionResult(content='The weather in New York is 73 degrees and Sunny.', call_id='call_1P3Dyudqa3qSwxvUqAsmswbH')]),\n",
       " TextMessage(source='writing_agent', models_usage=RequestUsage(prompt_tokens=97, completion_tokens=14), content='The weather in New York is currently 73 degrees and sunny.'),\n",
       " TextMessage(source='writing_agent', models_usage=RequestUsage(prompt_tokens=144, completion_tokens=4), content='TERMINATE')]"
      ]
     },
     "execution_count": 3,
     "metadata": {},
     "output_type": "execute_result"
    }
   ],
   "source": [
    "result.messages"
   ]
  },
  {
   "cell_type": "code",
   "execution_count": 4,
   "metadata": {},
   "outputs": [
    {
     "name": "stdout",
     "output_type": "stream",
     "text": [
      "source='user' models_usage=None content='What is the weather in New York?'\n",
      "source='writing_agent' models_usage=RequestUsage(prompt_tokens=167, completion_tokens=15) content=[FunctionCall(id='call_dhQsL9a2ARr737arLpqP3HUe', arguments='{\"city\":\"New York\"}', name='get_weather')]\n",
      "source='writing_agent' models_usage=None content=[FunctionExecutionResult(content='The weather in New York is 73 degrees and Sunny.', call_id='call_dhQsL9a2ARr737arLpqP3HUe')]\n",
      "source='writing_agent' models_usage=RequestUsage(prompt_tokens=178, completion_tokens=14) content='The weather in New York is currently 73 degrees and sunny.'\n",
      "source='writing_agent' models_usage=RequestUsage(prompt_tokens=225, completion_tokens=4) content='TERMINATE'\n",
      "TaskResult(messages=[TextMessage(source='user', models_usage=None, content='What is the weather in New York?'), ToolCallMessage(source='writing_agent', models_usage=RequestUsage(prompt_tokens=167, completion_tokens=15), content=[FunctionCall(id='call_dhQsL9a2ARr737arLpqP3HUe', arguments='{\"city\":\"New York\"}', name='get_weather')]), ToolCallResultMessage(source='writing_agent', models_usage=None, content=[FunctionExecutionResult(content='The weather in New York is 73 degrees and Sunny.', call_id='call_dhQsL9a2ARr737arLpqP3HUe')]), TextMessage(source='writing_agent', models_usage=RequestUsage(prompt_tokens=178, completion_tokens=14), content='The weather in New York is currently 73 degrees and sunny.'), TextMessage(source='writing_agent', models_usage=RequestUsage(prompt_tokens=225, completion_tokens=4), content='TERMINATE')], stop_reason='Maximum number of messages 5 reached, current message count: 5')\n"
     ]
    }
   ],
   "source": [
    "result_stream = team.run_stream(task=\"What is the weather in New York?\")\n",
    "async for result in result_stream:\n",
    "    print(result)"
   ]
  },
  {
   "cell_type": "code",
   "execution_count": null,
   "metadata": {},
   "outputs": [],
   "source": []
  }
 ],
 "metadata": {
  "kernelspec": {
   "display_name": "ags",
   "language": "python",
   "name": "python3"
  },
  "language_info": {
   "codemirror_mode": {
    "name": "ipython",
    "version": 3
   },
   "file_extension": ".py",
   "mimetype": "text/x-python",
   "name": "python",
   "nbconvert_exporter": "python",
   "pygments_lexer": "ipython3",
   "version": "3.10.14"
  }
 },
 "nbformat": 4,
 "nbformat_minor": 2
}
